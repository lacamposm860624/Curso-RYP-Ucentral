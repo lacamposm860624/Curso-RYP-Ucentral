{
 "cells": [
  {
   "cell_type": "markdown",
   "metadata": {},
   "source": [
    "# Mi PRIMER MARKDOWN EN PYTHON "
   ]
  },
  {
   "cell_type": "markdown",
   "metadata": {},
   "source": [
    "# Título 1\n",
    "\n",
    "## Título 2\n",
    "\n",
    "### Título 3\n",
    "\n",
    "#### Título 4\n",
    "\n",
    "##### Título 5\n",
    "\n",
    "###### Título 6\n",
    "\n",
    "Esto es texto llano, podemos escribir todo lo que queramos sin ningún problema para acompañar a tanto el código en R como las fórmulas de $\\LaTeX$.\n",
    "\n",
    "Esto sería una nueva linea de texto (dos intros o más). Se necesita siempre al menos un doble intro.\n",
    "\n",
    "Para colocar *cursiva*, podemos  usar un asteristo: *esto sería un texto en cursiva* o bien usar una sola barra baja _esto es cursiva_.\n",
    "\n",
    "Para colocar **negrita** podemos usar un doble asteristo: **esto es negrita** o bien una doble barra baja __esto es negrtita__. También podemos escribir cursiva y negrilla ***esto es cursiva y negrita*** o ___esto es cursiva y negrita___\n",
    "\n",
    "Los superíndices van con el *sombrerito*: este curso vale por mi nota ^2^. Juan Gabriel^profelucho^.\n",
    "\n",
    "Para tachar una palabra usamos una doble tilde ~~Las matemáticas son un rollo~~.\n",
    "\n",
    "Para conocer más sobre los recursos de Luis Campos, podemos visitar su [perfil de Luis Campos](https://github.com/lacamposm860624?tab=repositories).\n",
    "\n",
    "endash:-- Y entonce Juan dijo: ...\n",
    "\n",
    "emdash:... --- como Juan quería explicar.\n",
    "\n",
    "elipsis: ...\n",
    "\n",
    "# ecuaciones en línea $S = \\pi\\cdot r^2$\n",
    "\n",
    "\n",
    "![globo](../Desktop/r-basic-master/r-basic-master/teoria/Imgs/logo.png)\n",
    "![Jupyter logo](http://jupyter.org/assets/nav_logo.svg)\n",
    "\n",
    "***\n",
    "\n",
    "Aquí empezamos otra cosa\n",
    "\n",
    "> Esto es una cita en bloque\n",
    "\n",
    "> \"Un país, una civilización se puede juzgar por la forma en que trata a sus animales.  — Mahatma Gandhi\n",
    "\n",
    "### Listas no ordenadas\n",
    "\n",
    "* Item primero\n",
    "* Item segundo\n",
    "    + Sub item 2.1\n",
    "    + Sub item 2.2\n",
    "* Item tercero\n",
    "\n",
    "### Listas ordenadas\n",
    "\n",
    "1. Primer item\n",
    "2. Segundo ítem\n",
    "    + Sub item\n",
    "    + Nuevo sub ítem\n",
    "3. Tercer ítem\n",
    "1. Quinto ítem\n",
    "1. Último ítem\n",
    "\n",
    "Alumno      |   Nota    | Edad\n",
    "------------|-----------|-------\n",
    "Juan        |   3.5     |   30\n",
    "Ricardo     |   5.6     |   55\n",
    "Maria       |   9.5     |   19\n",
    "\n",
    "\n",
    "Podemos encontrar más información [aquí](https://markdown.es)\n"
   ]
  },
  {
   "cell_type": "code",
   "execution_count": null,
   "metadata": {},
   "outputs": [],
   "source": []
  }
 ],
 "metadata": {
  "kernelspec": {
   "display_name": "Python 3",
   "language": "python",
   "name": "python3"
  },
  "language_info": {
   "codemirror_mode": {
    "name": "ipython",
    "version": 3
   },
   "file_extension": ".py",
   "mimetype": "text/x-python",
   "name": "python",
   "nbconvert_exporter": "python",
   "pygments_lexer": "ipython3",
   "version": "3.6.5"
  }
 },
 "nbformat": 4,
 "nbformat_minor": 2
}
